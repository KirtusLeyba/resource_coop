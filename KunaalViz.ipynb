{
 "cells": [
  {
   "cell_type": "code",
   "execution_count": 6,
   "metadata": {},
   "outputs": [],
   "source": [
    "from coop import *\n",
    "import numpy as np\n",
    "import matplotlib.pyplot as plt\n",
    "from IPython.display import HTML\n",
    "import matplotlib.animation as animation"
   ]
  },
  {
   "cell_type": "code",
   "execution_count": 7,
   "metadata": {},
   "outputs": [],
   "source": [
    "width = 50\n",
    "height = 50\n",
    "grid = createRectangleGrid(width, height)\n",
    "\n",
    "#### simulation set up\n",
    "agentList = []\n",
    "popSize = 100\n",
    "for i in range(popSize):\n",
    "    rx = np.random.randint(0, width)\n",
    "    ry = np.random.randint(0, height)\n",
    "    while(grid[rx][ry].agentHere != None):\n",
    "        rx = np.random.randint(0, width)\n",
    "        ry = np.random.randint(0, height)\n",
    "    a = Agent(rx, ry, 2)\n",
    "    grid[rx][ry].agentHere = a\n",
    "    a.nodeAt = grid[rx][ry]\n",
    "    a.randomizeBrain()\n",
    "    agentList.append(a)\n",
    "\n",
    "resources = []\n",
    "count = 0.0"
   ]
  },
  {
   "cell_type": "code",
   "execution_count": 8,
   "metadata": {},
   "outputs": [],
   "source": [
    "def init():\n",
    "    im.set_data(data)\n",
    "    return im\n",
    "\n",
    "def animate(i):\n",
    "\n",
    "    data = np.zeros((width, height))\n",
    "\n",
    "    count = 0.0\n",
    "    resources.append(0.0)\n",
    "    for x in range(width):\n",
    "        for y in range(height):\n",
    "            if(i == 0):\n",
    "                grid[x][y].resources += 1.0\n",
    "            count += 1\n",
    "            resources[-1] += grid[x][y].resources\n",
    "\n",
    "    agentsToBirth = []\n",
    "    agentsToKill = []\n",
    "    for a in agentList:\n",
    "        data[a.x, a.y] = 1.0 + a.resources\n",
    "        a.calcSenseVector()\n",
    "        a.calcAction()\n",
    "        offspring = a.takeAction()\n",
    "        if(offspring != None):\n",
    "            agentsToBirth.append(offspring)\n",
    "        if(a.resources <= 0.0000001):\n",
    "            agentsToKill.append(a)\n",
    "    for a in agentsToKill:\n",
    "        agentList.remove(a)\n",
    "    for a in agentsToBirth:\n",
    "        agentList.append(a)\n",
    "\n",
    "    im.set_data(data)\n",
    "\n",
    "    return im"
   ]
  },
  {
   "cell_type": "code",
   "execution_count": 11,
   "metadata": {},
   "outputs": [
    {
     "ename": "AttributeError",
     "evalue": "'function' object has no attribute 'to_html5_video'",
     "output_type": "error",
     "traceback": [
      "\u001b[0;31m---------------------------------------------------------------------------\u001b[0m",
      "\u001b[0;31mAttributeError\u001b[0m                            Traceback (most recent call last)",
      "\u001b[0;32m<ipython-input-11-116ff43d9646>\u001b[0m in \u001b[0;36m<module>\u001b[0;34m\u001b[0m\n\u001b[1;32m     10\u001b[0m \u001b[0;34m\u001b[0m\u001b[0m\n\u001b[1;32m     11\u001b[0m \u001b[0manim\u001b[0m \u001b[0;34m=\u001b[0m \u001b[0manimation\u001b[0m\u001b[0;34m.\u001b[0m\u001b[0mFuncAnimation\u001b[0m\u001b[0;34m(\u001b[0m\u001b[0mfig\u001b[0m\u001b[0;34m,\u001b[0m \u001b[0manimate\u001b[0m\u001b[0;34m,\u001b[0m \u001b[0minit_func\u001b[0m\u001b[0;34m=\u001b[0m\u001b[0minit\u001b[0m\u001b[0;34m,\u001b[0m \u001b[0mblit\u001b[0m\u001b[0;34m=\u001b[0m\u001b[0;32mFalse\u001b[0m\u001b[0;34m,\u001b[0m \u001b[0minterval\u001b[0m\u001b[0;34m=\u001b[0m\u001b[0;36m1000\u001b[0m\u001b[0;34m/\u001b[0m\u001b[0;36m60\u001b[0m\u001b[0;34m)\u001b[0m\u001b[0;34m\u001b[0m\u001b[0;34m\u001b[0m\u001b[0m\n\u001b[0;32m---> 12\u001b[0;31m \u001b[0mHTML\u001b[0m\u001b[0;34m(\u001b[0m\u001b[0manimate\u001b[0m\u001b[0;34m.\u001b[0m\u001b[0mto_html5_video\u001b[0m\u001b[0;34m(\u001b[0m\u001b[0;34m)\u001b[0m\u001b[0;34m)\u001b[0m\u001b[0;34m\u001b[0m\u001b[0;34m\u001b[0m\u001b[0m\n\u001b[0m\u001b[1;32m     13\u001b[0m \u001b[0;31m#plt.show()\u001b[0m\u001b[0;34m\u001b[0m\u001b[0;34m\u001b[0m\u001b[0;34m\u001b[0m\u001b[0m\n\u001b[1;32m     14\u001b[0m \u001b[0;34m\u001b[0m\u001b[0m\n",
      "\u001b[0;31mAttributeError\u001b[0m: 'function' object has no attribute 'to_html5_video'"
     ]
    },
    {
     "data": {
      "image/png": "[encoded data removed]",
      "text/plain": [
       "<Figure size 432x288 with 1 Axes>"
      ]
     },
     "metadata": {
      "needs_background": "light"
     },
     "output_type": "display_data"
    }
   ],
   "source": [
    "#### Run the sim and animate live\n",
    "data = np.zeros((width, height))\n",
    "for a in agentList:\n",
    "    data[a.x, a.y] = a.resources\n",
    "\n",
    "fig, ax = plt.subplots()\n",
    "ax.set_xlim((-0.5, width-0.5))\n",
    "ax.set_ylim((-0.5, height-0.5))\n",
    "im = ax.imshow(data, cmap=\"cividis\")\n",
    "\n",
    "anim = animation.FuncAnimation(fig, animate, init_func=init, blit=False, interval=1000/60)\n",
    "HTML(animat.to_html5_video())\n",
    "#plt.show()\n",
    "\n",
    "\n",
    "# plt.figure()\n",
    "# plt.plot(resources)\n",
    "# plt.show()"
   ]
  },
  {
   "cell_type": "code",
   "execution_count": null,
   "metadata": {},
   "outputs": [],
   "source": []
  }
 ],
 "metadata": {
  "kernelspec": {
   "display_name": "Python 3",
   "language": "python",
   "name": "python3"
  },
  "language_info": {
   "codemirror_mode": {
    "name": "ipython",
    "version": 3
   },
   "file_extension": ".py",
   "mimetype": "text/x-python",
   "name": "python",
   "nbconvert_exporter": "python",
   "pygments_lexer": "ipython3",
   "version": "3.6.8"
  }
 },
 "nbformat": 4,
 "nbformat_minor": 2
}

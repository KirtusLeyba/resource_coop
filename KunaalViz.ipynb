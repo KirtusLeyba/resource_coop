{
 "cells": [
  {
   "cell_type": "code",
   "execution_count": 15,
   "metadata": {},
   "outputs": [],
   "source": [
    "from coop import *\n",
    "import numpy as np\n",
    "import matplotlib.pyplot as plt\n",
    "from IPython.display import HTML\n",
    "import matplotlib.animation as animation\n",
    "%matplotlib inline"
   ]
  },
  {
   "cell_type": "code",
   "execution_count": 16,
   "metadata": {},
   "outputs": [],
   "source": [
    "width = 100\n",
    "height = 100\n",
    "grid = createRectangleGrid(width, height)\n",
    "\n",
    "#### simulation set up\n",
    "agentList = []\n",
    "popSize = 100\n",
    "for i in range(popSize):\n",
    "    rx = np.random.randint(0, width)\n",
    "    ry = np.random.randint(0, height)\n",
    "    while(grid[rx][ry].agentHere != None):\n",
    "        rx = np.random.randint(0, width)\n",
    "        ry = np.random.randint(0, height)\n",
    "    a = Agent(rx, ry, 2)\n",
    "    grid[rx][ry].agentHere = a\n",
    "    a.nodeAt = grid[rx][ry]\n",
    "    a.randomizeBrain()\n",
    "    agentList.append(a)\n",
    "\n",
    "resources = []\n",
    "count = 0.0\n",
    "move = []\n",
    "steal = []\n",
    "trade = []\n",
    "pickup = []"
   ]
  },
  {
   "cell_type": "code",
   "execution_count": 18,
   "metadata": {},
   "outputs": [],
   "source": [
    "def init():\n",
    "    im.set_data(data)\n",
    "    return im\n",
    "\n",
    "def animate(i):\n",
    "    move.append(0)\n",
    "    steal.append(0)\n",
    "    trade.append(0)\n",
    "    pickup.append(0)\n",
    "    total = len(agentList)\n",
    "\n",
    "    data = np.zeros((width, height))\n",
    "\n",
    "    resources.append(0.0)\n",
    "    for x in range(width):\n",
    "        for y in range(height):\n",
    "            grid[x][y].resources += grid[x][y].resourceRate*(1-grid[x][y].resources/grid[x][y].carryingCapacity)*grid[x][y].resources\n",
    "            if(grid[x][y].resources>grid[x][y].carryingCapacity):\n",
    "                grid[x][y].resources=grid[x][y].carryingCapacity\n",
    "            resources[-1] += grid[x][y].resources\n",
    "\n",
    "    for _ in range(width*height):\n",
    "        rx = np.random.randint(0, width-1)\n",
    "        ry = np.random.randint(0, height-1)\n",
    "        rindex = np.random.randint(0, len(grid[rx][ry].neighbors)-1)\n",
    "        rFlow = np.random.uniform(0,(grid[rx][ry].resources-grid[rx][ry].neighbors[rindex].resources)/2)\n",
    "        grid[rx][ry].resources -= rFlow\n",
    "        grid[rx][ry].neighbors[rindex].resources += rFlow\n",
    "\n",
    "    agentsToBirth = []\n",
    "    agentsToKill = []\n",
    "    for a in agentList:\n",
    "        data[a.x, a.y] = 1.0 + a.resources\n",
    "        a.calcSenseVector()\n",
    "        a.calcAction()\n",
    "        resultOfAction = a.takeAction()\n",
    "        offspring = resultOfAction[0]\n",
    "        chosenAction = resultOfAction[1]\n",
    "        if(chosenAction == 1):\n",
    "            move[i] += 1\n",
    "        elif(chosenAction == 2):\n",
    "            steal[i] += 1\n",
    "        elif(chosenAction == 3):\n",
    "            trade[i] += 1\n",
    "        elif(chosenAction == 4):\n",
    "            pickup[i] += 1\n",
    "        if(offspring != None):\n",
    "            agentsToBirth.append(offspring)\n",
    "        if(a.resources <= 0.0000001):\n",
    "            agentsToKill.append(a)\n",
    "    move[i] /= total\n",
    "    steal[i] /= total\n",
    "    trade[i] /= total\n",
    "    pickup[i] /= total\n",
    "    for a in agentsToKill:\n",
    "        agentList.remove(a)\n",
    "    for a in agentsToBirth:\n",
    "        agentList.append(a)\n",
    "\n",
    "    im.set_data(data)\n",
    "\n",
    "    return im"
   ]
  },
  {
   "cell_type": "code",
   "execution_count": 19,
   "metadata": {},
   "outputs": [
    {
     "data": {
      "image/png": "[encoded data removed]",
      "text/plain": [
       "<Figure size 432x288 with 1 Axes>"
      ]
     },
     "metadata": {
      "needs_background": "light"
     },
     "output_type": "display_data"
    },
    {
     "data": {
      "image/png": "[encoded data removed]",
      "text/plain": [
       "<Figure size 432x288 with 1 Axes>"
      ]
     },
     "metadata": {
      "needs_background": "light"
     },
     "output_type": "display_data"
    },
    {
     "data": {
      "image/png": "[encoded data removed]",
      "text/plain": [
       "<Figure size 432x288 with 1 Axes>"
      ]
     },
     "metadata": {
      "needs_background": "light"
     },
     "output_type": "display_data"
    }
   ],
   "source": [
    "#### Run the sim and animate live\n",
    "data = np.zeros((width, height))\n",
    "for a in agentList:\n",
    "    data[a.x, a.y] = a.resources\n",
    "\n",
    "fig, ax = plt.subplots()\n",
    "ax.set_xlim((-0.5, width-0.5))\n",
    "ax.set_ylim((-0.5, height-0.5))\n",
    "im = ax.imshow(data, cmap=\"cividis\")\n",
    "\n",
    "anim = animation.FuncAnimation(fig, animate, init_func=init, blit=False, interval=10/60)\n",
    "#HTML(anim.to_html5_video())\n",
    "plt.show()\n",
    "\n",
    "\n",
    "plt.figure()\n",
    "plt.plot(resources)\n",
    "plt.show()\n",
    "\n",
    "decisions=plt.figure()\n",
    "plt.plot(move,label='move')\n",
    "plt.plot(steal,label='steal')\n",
    "plt.plot(trade,label='trade')\n",
    "plt.plot(pickup,label='pickup')\n",
    "plt.legend()\n",
    "plt.xlabel('time')\n",
    "plt.ylabel('agent decisions')\n",
    "plt.title('Evolution of decision making process')\n",
    "plt.show()"
   ]
  },
  {
   "cell_type": "code",
   "execution_count": null,
   "metadata": {},
   "outputs": [],
   "source": []
  },
  {
   "cell_type": "code",
   "execution_count": null,
   "metadata": {},
   "outputs": [],
   "source": []
  }
 ],
 "metadata": {
  "kernelspec": {
   "display_name": "Python 3",
   "language": "python",
   "name": "python3"
  },
  "language_info": {
   "codemirror_mode": {
    "name": "ipython",
    "version": 3
   },
   "file_extension": ".py",
   "mimetype": "text/x-python",
   "name": "python",
   "nbconvert_exporter": "python",
   "pygments_lexer": "ipython3",
   "version": "3.6.8"
  }
 },
 "nbformat": 4,
 "nbformat_minor": 2
}

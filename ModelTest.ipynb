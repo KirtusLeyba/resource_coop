{
 "cells": [
  {
   "cell_type": "markdown",
   "metadata": {},
   "source": [
    "# ToDo List:\n",
    "1. spatial nodes class\n",
    "2. agents class\n",
    "    1. Coding Actions\n",
    "3. resource distribution function(s)\n",
    "4. Iteration of simulation\n",
    "5. Data collection + vis"
   ]
  },
  {
   "cell_type": "code",
   "execution_count": 6,
   "metadata": {},
   "outputs": [],
   "source": [
    "from coop import *\n",
    "import numpy as np\n",
    "import matplotlib.pyplot as plt"
   ]
  },
  {
   "cell_type": "code",
   "execution_count": 2,
   "metadata": {},
   "outputs": [],
   "source": [
    "#### Generate grid\n",
    "width = 20\n",
    "height = 20\n",
    "grid = createRectangleGrid(width, height)"
   ]
  },
  {
   "cell_type": "code",
   "execution_count": 5,
   "metadata": {},
   "outputs": [],
   "source": [
    "### Generate some individuals\n",
    "agentList = []\n",
    "popSize = 100\n",
    "for i in range(popSize):\n",
    "    rx = np.random.randint(0, width)\n",
    "    ry = np.random.randint(0, height)\n",
    "    while(grid[rx][ry].agentHere != None):\n",
    "        rx = np.random.randint(0, width)\n",
    "        ry = np.random.randint(0, height)\n",
    "    a = Agent(rx, ry, 2)\n",
    "    agentList.append(a)"
   ]
  },
  {
   "cell_type": "code",
   "execution_count": null,
   "metadata": {},
   "outputs": [],
   "source": [
    "### visualize grid\n",
    "image = np.zeros((width, height))\n",
    "for "
   ]
  }
 ],
 "metadata": {
  "kernelspec": {
   "display_name": "Python 2",
   "language": "python",
   "name": "python2"
  },
  "language_info": {
   "codemirror_mode": {
    "name": "ipython",
    "version": 2
   },
   "file_extension": ".py",
   "mimetype": "text/x-python",
   "name": "python",
   "nbconvert_exporter": "python",
   "pygments_lexer": "ipython2",
   "version": "2.7.15rc1"
  }
 },
 "nbformat": 4,
 "nbformat_minor": 2
}

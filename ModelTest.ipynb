{
 "cells": [
  {
   "cell_type": "markdown",
   "metadata": {},
   "source": [
    "# ToDo List:\n",
    "1. spatial nodes class\n",
    "2. agents class\n",
    "    1. Coding Actions\n",
    "3. resource distribution function(s)\n",
    "4. Iteration of simulation\n",
    "5. Data collection + vis"
   ]
  },
  {
   "cell_type": "code",
   "execution_count": 1,
   "metadata": {},
   "outputs": [],
   "source": [
    "from coop import *\n",
    "import numpy as np\n",
    "import matplotlib.pyplot as plt"
   ]
  },
  {
   "cell_type": "code",
   "execution_count": 2,
   "metadata": {},
   "outputs": [],
   "source": [
    "#### Generate grid\n",
    "width = 20\n",
    "height = 20\n",
    "grid = createRectangleGrid(width, height)"
   ]
  },
  {
   "cell_type": "code",
   "execution_count": 3,
   "metadata": {},
   "outputs": [],
   "source": [
    "### Generate some individuals\n",
    "agentList = []\n",
    "popSize = 100\n",
    "for i in range(popSize):\n",
    "    rx = np.random.randint(0, width)\n",
    "    ry = np.random.randint(0, height)\n",
    "    while(grid[rx][ry].agentHere != None):\n",
    "        rx = np.random.randint(0, width)\n",
    "        ry = np.random.randint(0, height)\n",
    "    a = Agent(rx, ry, 2)\n",
    "    grid[rx][ry].agentHere = a\n",
    "    a.nodeAt = grid[rx][ry]\n",
    "    agentList.append(a)"
   ]
  },
  {
   "cell_type": "code",
   "execution_count": 8,
   "metadata": {},
   "outputs": [
    {
     "data": {
      "image/png": "[encoded data removed]",
      "text/plain": [
       "<Figure size 432x288 with 1 Axes>"
      ]
     },
     "metadata": {
      "needs_background": "light"
     },
     "output_type": "display_data"
    }
   ],
   "source": [
    "### visualize grid\n",
    "image = np.zeros((width, height))\n",
    "for i in range(width):\n",
    "    for j in range(width):\n",
    "        if(grid[i][j].agentHere != None):\n",
    "            image[i,j] = 1\n",
    "plt.figure()\n",
    "plt.imshow(image)\n",
    "plt.show()"
   ]
  },
  {
   "cell_type": "code",
   "execution_count": null,
   "metadata": {},
   "outputs": [],
   "source": []
  }
 ],
 "metadata": {
  "kernelspec": {
   "display_name": "Python 2",
   "language": "python",
   "name": "python2"
  },
  "language_info": {
   "codemirror_mode": {
    "name": "ipython",
    "version": 2
   },
   "file_extension": ".py",
   "mimetype": "text/x-python",
   "name": "python",
   "nbconvert_exporter": "python",
   "pygments_lexer": "ipython2",
   "version": "2.7.15rc1"
  }
 },
 "nbformat": 4,
 "nbformat_minor": 2
}
